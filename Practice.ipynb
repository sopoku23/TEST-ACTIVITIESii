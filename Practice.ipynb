{
 "cells": [
  {
   "cell_type": "code",
   "execution_count": 1,
   "id": "c4c58c02-8e8d-4b7e-b9db-c3fc084daa00",
   "metadata": {},
   "outputs": [
    {
     "name": "stdout",
     "output_type": "stream",
     "text": [
      "The score is: -  F\n"
     ]
    }
   ],
   "source": [
    "score = 23\n",
    "\n",
    "if score >= 80:\n",
    "    letter = 'A'\n",
    "elif score >= 60:\n",
    "    letter = 'B'\n",
    "elif score >= 50:\n",
    "    letter = 'C'\n",
    "elif score >= 45:\n",
    "    letter = 'D'\n",
    "elif score>= 25:\n",
    "    letter = \"E\"\n",
    "else:\n",
    "    letter = 'F'\n",
    "    \n",
    "print(\"The score is: - \", letter)"
   ]
  },
  {
   "cell_type": "code",
   "execution_count": 19,
   "id": "74784d79-b377-4c51-8b39-24a95adfb481",
   "metadata": {},
   "outputs": [
    {
     "name": "stdout",
     "output_type": "stream",
     "text": [
      "The marks is:  A\n"
     ]
    }
   ],
   "source": [
    "marks = 88\n",
    "if marks > 25 and marks < 45:\n",
    "    grade = 'E'\n",
    "elif marks > 44 and marks <50:\n",
    "    grade = 'D'\n",
    "elif marks > 49 and marks <60:\n",
    "    grade = 'C'\n",
    "elif marks > 59 and marks <80:\n",
    "    grade = 'B'\n",
    "elif marks >= 80:\n",
    "    grade = 'A'\n",
    "else:\n",
    "    grade = 'F'\n",
    "print('The marks is: ', grade)"
   ]
  },
  {
   "cell_type": "code",
   "execution_count": 5,
   "id": "1cc406eb-04c5-4fdd-a6c3-dd7c594bd478",
   "metadata": {},
   "outputs": [],
   "source": [
    "sentence= \"I am going to school\"\n",
    "for i in sentence:\n",
    "    if i in \" AEIOUaeiou.\":\n",
    "        continue\n",
    "        print(i)"
   ]
  },
  {
   "cell_type": "code",
   "execution_count": null,
   "id": "74ba657f-708a-4f0f-b448-bcd054de75d7",
   "metadata": {},
   "outputs": [],
   "source": []
  },
  {
   "cell_type": "code",
   "execution_count": null,
   "id": "0c477c19-f9b7-4ba1-a901-8a4bbd06a481",
   "metadata": {},
   "outputs": [],
   "source": []
  },
  {
   "cell_type": "code",
   "execution_count": 1,
   "id": "d0249b0b-58f9-4f31-b010-36270cc798a3",
   "metadata": {},
   "outputs": [],
   "source": [
    "import numpy as np"
   ]
  },
  {
   "cell_type": "code",
   "execution_count": 2,
   "id": "19ea859b-539b-4eb7-9161-8becd23bba18",
   "metadata": {},
   "outputs": [
    {
     "name": "stdout",
     "output_type": "stream",
     "text": [
      "Requirement already satisfied: numpy in c:\\users\\sylvester opoku\\appdata\\local\\programs\\python\\python311\\lib\\site-packages (1.25.1)\n",
      "Note: you may need to restart the kernel to use updated packages.\n"
     ]
    }
   ],
   "source": [
    "pip install numpy"
   ]
  },
  {
   "cell_type": "code",
   "execution_count": 3,
   "id": "61345be9-c9b6-4c4d-b687-549b9ab6fe96",
   "metadata": {},
   "outputs": [
    {
     "name": "stdout",
     "output_type": "stream",
     "text": [
      "[1 2 3]\n"
     ]
    }
   ],
   "source": [
    "x=np.array([1,2,3])\n",
    "print(x)"
   ]
  },
  {
   "cell_type": "code",
   "execution_count": 11,
   "id": "7ebe38d3-b97b-4803-8e9c-4c8d5a74b300",
   "metadata": {},
   "outputs": [
    {
     "name": "stdout",
     "output_type": "stream",
     "text": [
      "[[1 2 3]\n",
      " [4 5 6]]\n"
     ]
    }
   ],
   "source": [
    "x1=np.array([[1,2,3],[4,5,6]])\n",
    "print(x1)"
   ]
  },
  {
   "cell_type": "code",
   "execution_count": null,
   "id": "0094df40-a1b0-46fd-8448-5aa35f729258",
   "metadata": {},
   "outputs": [],
   "source": []
  },
  {
   "cell_type": "code",
   "execution_count": 18,
   "id": "405256d2-0f3a-40ea-9c67-f372ca11fdea",
   "metadata": {},
   "outputs": [
    {
     "name": "stdout",
     "output_type": "stream",
     "text": [
      "1\n",
      "4\n",
      "7\n",
      "10\n",
      "13\n"
     ]
    }
   ],
   "source": [
    "# getting the list of numbers from 1 to 15\n",
    "\n",
    "for counting_no in range(1, 15, 3):\n",
    "        print(counting_no)"
   ]
  },
  {
   "cell_type": "code",
   "execution_count": null,
   "id": "2013ad0a-5148-42ba-9b9e-bfd22644859c",
   "metadata": {},
   "outputs": [],
   "source": []
  },
  {
   "cell_type": "code",
   "execution_count": null,
   "id": "df87ac74-46ec-48ad-8206-679ae1cdf513",
   "metadata": {},
   "outputs": [],
   "source": []
  },
  {
   "cell_type": "code",
   "execution_count": null,
   "id": "3e3b82a4-aa11-4fbf-8649-cba8f9b88512",
   "metadata": {},
   "outputs": [],
   "source": []
  },
  {
   "cell_type": "code",
   "execution_count": null,
   "id": "95d3c85c-3ee1-415b-90ef-ba80388e1380",
   "metadata": {},
   "outputs": [],
   "source": []
  },
  {
   "cell_type": "code",
   "execution_count": null,
   "id": "e2756086-ebbf-4db1-9ab1-862429b6bd4e",
   "metadata": {},
   "outputs": [],
   "source": []
  }
 ],
 "metadata": {
  "kernelspec": {
   "display_name": "Python 3 (ipykernel)",
   "language": "python",
   "name": "python3"
  },
  "language_info": {
   "codemirror_mode": {
    "name": "ipython",
    "version": 3
   },
   "file_extension": ".py",
   "mimetype": "text/x-python",
   "name": "python",
   "nbconvert_exporter": "python",
   "pygments_lexer": "ipython3",
   "version": "3.11.4"
  }
 },
 "nbformat": 4,
 "nbformat_minor": 5
}
